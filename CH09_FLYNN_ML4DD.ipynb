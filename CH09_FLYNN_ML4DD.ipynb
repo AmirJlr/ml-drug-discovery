{
 "cells": [
  {
   "cell_type": "markdown",
   "metadata": {},
   "source": [
    "# 📚 Chapter 9: Structure-based Virtual Screening\n",
    "\n",
    "*This notebook contains the code examples in chapter 9. For readability, the chapter notebooks only contain runnable code blocks and section titles. They omit the rest of the material in the book, i.e., text paragraphs, figures (unless generated as part of one of the code blocks), equations, and pseudocode. I recommend reading the notebooks side-by-side with the book!*\n",
    "\n",
    "You can work through this notebook locally as well as via Google Colab:\n",
    "<a target=\"_blank\" href=\"https://colab.research.google.com/github/nrflynn2/ml-drug-discovery/blob/main/CH09_FLYNN_ML4DD.ipynb\">\n",
    "  <img src=\"https://colab.research.google.com/assets/colab-badge.svg\" alt=\"Open In Colab\"/>\n",
    "</a>\n",
    "\n",
    "This chapter covers:\n"
   ]
  }
 ],
 "metadata": {
  "language_info": {
   "name": "python"
  }
 },
 "nbformat": 4,
 "nbformat_minor": 2
}
